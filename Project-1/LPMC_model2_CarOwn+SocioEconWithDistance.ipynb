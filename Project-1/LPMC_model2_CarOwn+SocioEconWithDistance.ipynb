{
 "cells": [
  {
   "cell_type": "code",
   "execution_count": 27,
   "metadata": {},
   "outputs": [],
   "source": [
    "import os \n",
    "\n",
    "import pandas as pd\n",
    "import biogeme.database as db\n",
    "import biogeme.biogeme as bio\n",
    "from biogeme.expressions import Beta, DefineVariable\n",
    "from biogeme.models import loglogit"
   ]
  },
  {
   "cell_type": "code",
   "execution_count": 28,
   "metadata": {},
   "outputs": [],
   "source": [
    "pandas = pd.read_table(\"lpmc02.dat\")\n",
    "database = db.Database(\"LPMC\",pandas)\n",
    "pd.options.display.float_format = '{:.3g}'.format\n",
    "\n",
    "globals().update(database.variables)\n",
    "\n",
    "# Choice\n",
    "chosenAlternative = travel_mode"
   ]
  },
  {
   "cell_type": "code",
   "execution_count": 29,
   "metadata": {},
   "outputs": [],
   "source": [
    "#Parameters to be estimated+ (  BestAlternative_4   *  4  )\n",
    "# Arguments:\n",
    "#   1  Name for report. Typically, the same as the variable\n",
    "#   2  Starting value\n",
    "#   3  Lower bound\n",
    "#   4  Upper bound\n",
    "#   5  0: estimate the parameter, 1: keep it fixed\n",
    "Constant1 = Beta('Constant1',0,None,None,1)\n",
    "Constant2 = Beta('Constant2',0,None,None,0)\n",
    "Constant3 = Beta('Constant3',0,None,None,0)\n",
    "Constant4 = Beta('Constant4',0,None,None,0)\n",
    "Cost = Beta('Cost',0,None,None,0)\n",
    "Total_TT1 = Beta('Total_TT1',0,None,None,0)\n",
    "Total_TT2 = Beta('Total_TT2',0,None,None,0)\n",
    "Total_TT3 = Beta('Total_TT3',0,None,None,0)\n",
    "Total_TT4 = Beta('Total_TT4',0,None,None,0)\n",
    "CarOwn = Beta('CarOwn',0,None,None,0)\n",
    "\n",
    "\n",
    "# socio-economic factors (interacting with CarOwn)\n",
    "CarOwn_Female = Beta('Dist_Female', 0, None, None, 0)\n",
    "CarOwn_Age = Beta('Dist_Age', 0, None, None, 0)"
   ]
  },
  {
   "cell_type": "code",
   "execution_count": 30,
   "metadata": {},
   "outputs": [],
   "source": [
    "# Define here arithmetic expressions for name that are not directly\n",
    "# available from the data\n",
    "\n",
    "dur_public = DefineVariable('dur_public', dur_pt_access + dur_pt_rail + dur_pt_bus + dur_pt_int ,database)\n",
    "cost_public = DefineVariable('cost_public', cost_transit ,database)\n",
    "cost_driving = DefineVariable('cost_driving', cost_driving_fuel + cost_driving_ccharge ,database)"
   ]
  },
  {
   "cell_type": "markdown",
   "metadata": {},
   "source": [
    "##### Model with Gender as the socio-econ interaction"
   ]
  },
  {
   "cell_type": "code",
   "execution_count": 31,
   "metadata": {},
   "outputs": [],
   "source": [
    "# Utilities\n",
    "\n",
    "#Opt1 = walking\n",
    "#Opt2 = cycling\n",
    "#Opt3 = public transport\n",
    "#Opt4 = driving\n",
    "\n",
    "Opt1 = Constant1 + Total_TT1 * dur_walking + CarOwn * distance + CarOwn_Female * distance * female\n",
    "Opt2 = Constant2 + Total_TT2 * dur_cycling + CarOwn * distance + CarOwn_Female * distance * female\n",
    "Opt3 = Constant3 + Cost * cost_public + Total_TT3 * dur_public + CarOwn * distance +\\\n",
    "                    CarOwn_Female * distance * female\n",
    "Opt4 = Constant4 + Cost * cost_driving + Total_TT4 * dur_driving + CarOwn * car_ownership +\\\n",
    "                    CarOwn * distance + CarOwn_Female * distance * female\n",
    "    \n",
    "V = {1: Opt1,2: Opt2,3: Opt3, 4: Opt4}\n",
    "av = {1: 1,2: 1,3: 1,4: 1}"
   ]
  },
  {
   "cell_type": "code",
   "execution_count": null,
   "metadata": {
    "ExecuteTime": {
     "end_time": "2020-09-25T08:58:09.169827Z",
     "start_time": "2020-09-25T08:57:59.030134Z"
    }
   },
   "outputs": [],
   "source": [
    "output_dir = \"./model2-output\"\n",
    "filepath = os.path.join(output_dir, \"logit_lpmc_model2_CarOwn+Gender\")\n",
    "\n",
    "if not os.path.exists(output_dir):\n",
    "    os.mkdir(output_dir)\n",
    "if os.path.exists(filepath):\n",
    "    os.remove(f\"{filepath}.html\")\n",
    "    \n",
    "# The choice model is a logit, with availability conditions\n",
    "logprob = loglogit(V,av,chosenAlternative)\n",
    "biogeme  = bio.BIOGEME(database,logprob)\n",
    "biogeme.modelName = filepath\n",
    "results = biogeme.estimate()\n",
    "# Get the results in a pandas table\n",
    "pandasResults = results.getEstimatedParameters()\n",
    "print(f\"Nbr of observations: {database.getNumberOfObservations()}\")\n",
    "print(f\"LL(0) =    {results.data.initLogLike:.3f}\")\n",
    "print(f\"LL(beta) = {results.data.logLike:.3f}\")\n",
    "print(f\"rho bar square = {results.data.rhoBarSquare:.3g}\")\n",
    "print(f\"Output file: {results.data.htmlFileName}\")\n",
    "\n",
    "pandasResults"
   ]
  },
  {
   "cell_type": "markdown",
   "metadata": {},
   "source": [
    "##### Model with Age as the socio-econ interaction"
   ]
  },
  {
   "cell_type": "code",
   "execution_count": null,
   "metadata": {},
   "outputs": [],
   "source": [
    "# Utilities\n",
    "\n",
    "#Opt1 = walking\n",
    "#Opt2 = cycling\n",
    "#Opt3 = public transport\n",
    "#Opt4 = driving\n",
    "\n",
    "Opt1 = Constant1 + Total_TT1 * dur_walking + CarOwn * distance + CarOwn_Age * distance * age\n",
    "Opt2 = Constant2 + Total_TT2 * dur_cycling + CarOwn * distance + CarOwn_Age * distance * age\n",
    "Opt3 = Constant3 + Cost * cost_public + Total_TT3 * dur_public + CarOwn * distance +\\\n",
    "                    CarOwn_Age * distance * age\n",
    "Opt4 = Constant4 + Cost * cost_driving + Total_TT4 * dur_driving + CarOwn * car_ownership +\\\n",
    "                    CarOwn * distance + CarOwn_Age * distance * age\n",
    "    \n",
    "V = {1: Opt1,2: Opt2,3: Opt3, 4: Opt4}\n",
    "av = {1: 1,2: 1,3: 1,4: 1}"
   ]
  },
  {
   "cell_type": "code",
   "execution_count": null,
   "metadata": {},
   "outputs": [],
   "source": [
    "output_dir = \"./model2-output\"\n",
    "filepath = os.path.join(output_dir, \"logit_lpmc_model2_CarOwn+Age\")\n",
    "\n",
    "if not os.path.exists(output_dir):\n",
    "    os.mkdir(output_dir)\n",
    "if os.path.exists(filepath):\n",
    "    os.remove(f\"{filepath}.html\")\n",
    "    \n",
    "# The choice model is a logit, with availability conditions\n",
    "logprob = loglogit(V,av,chosenAlternative)\n",
    "biogeme  = bio.BIOGEME(database,logprob)\n",
    "biogeme.modelName = filepath\n",
    "results = biogeme.estimate()\n",
    "# Get the results in a pandas table\n",
    "pandasResults = results.getEstimatedParameters()\n",
    "print(f\"Nbr of observations: {database.getNumberOfObservations()}\")\n",
    "print(f\"LL(0) =    {results.data.initLogLike:.3f}\")\n",
    "print(f\"LL(beta) = {results.data.logLike:.3f}\")\n",
    "print(f\"rho bar square = {results.data.rhoBarSquare:.3g}\")\n",
    "print(f\"Output file: {results.data.htmlFileName}\")\n",
    "\n",
    "pandasResults"
   ]
  },
  {
   "cell_type": "code",
   "execution_count": null,
   "metadata": {},
   "outputs": [],
   "source": []
  },
  {
   "cell_type": "code",
   "execution_count": null,
   "metadata": {},
   "outputs": [],
   "source": []
  }
 ],
 "metadata": {
  "kernelspec": {
   "display_name": "Python 3",
   "language": "python",
   "name": "python3"
  },
  "language_info": {
   "codemirror_mode": {
    "name": "ipython",
    "version": 3
   },
   "file_extension": ".py",
   "mimetype": "text/x-python",
   "name": "python",
   "nbconvert_exporter": "python",
   "pygments_lexer": "ipython3",
   "version": "3.6.6"
  },
  "varInspector": {
   "cols": {
    "lenName": 16,
    "lenType": 16,
    "lenVar": 40
   },
   "kernels_config": {
    "python": {
     "delete_cmd_postfix": "",
     "delete_cmd_prefix": "del ",
     "library": "var_list.py",
     "varRefreshCmd": "print(var_dic_list())"
    },
    "r": {
     "delete_cmd_postfix": ") ",
     "delete_cmd_prefix": "rm(",
     "library": "var_list.r",
     "varRefreshCmd": "cat(var_dic_list()) "
    }
   },
   "types_to_exclude": [
    "module",
    "function",
    "builtin_function_or_method",
    "instance",
    "_Feature"
   ],
   "window_display": false
  }
 },
 "nbformat": 4,
 "nbformat_minor": 4
}

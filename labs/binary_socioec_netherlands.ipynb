{
 "cells": [
  {
   "cell_type": "code",
   "execution_count": 1,
   "metadata": {},
   "outputs": [],
   "source": [
    "import pandas as pd\n",
    "import biogeme.database as db\n",
    "import biogeme.biogeme as bio\n",
    "from biogeme.expressions import Beta, DefineVariable\n",
    "from biogeme.models import loglogit"
   ]
  },
  {
   "cell_type": "markdown",
   "metadata": {},
   "source": [
    "V car = ASC (car) + β (time car) time car + β (cost) cost car\n",
    "\n",
    "V rail = β (time rail) time rail + β (cost) cost rail + β (gender) gender"
   ]
  },
  {
   "cell_type": "code",
   "execution_count": 8,
   "metadata": {},
   "outputs": [],
   "source": [
    "pandas = pd.read_table(\"netherlands.dat\")\n",
    "database = db.Database(\"netherlands\",pandas)\n",
    "pd.options.display.float_format = '{:.3g}'.format\n",
    "\n",
    "\n",
    "globals().update(database.variables)\n",
    "\n",
    "exclude = sp != 0\n",
    "database.remove(exclude)"
   ]
  },
  {
   "cell_type": "code",
   "execution_count": 5,
   "metadata": {},
   "outputs": [
    {
     "data": {
      "text/plain": [
       "0       1\n",
       "9       1\n",
       "18      0\n",
       "25      0\n",
       "30      1\n",
       "       ..\n",
       "1707    0\n",
       "1712    0\n",
       "1720    0\n",
       "1725    0\n",
       "1730    1\n",
       "Name: gender, Length: 228, dtype: int64"
      ]
     },
     "execution_count": 5,
     "metadata": {},
     "output_type": "execute_result"
    }
   ],
   "source": [
    "pandas[\"gender\"]"
   ]
  },
  {
   "cell_type": "code",
   "execution_count": 9,
   "metadata": {},
   "outputs": [
    {
     "name": "stdout",
     "output_type": "stream",
     "text": [
      "                Value  Std err  t-test  p-value  Rob. Std err  Rob. t-test  \\\n",
      "ASC_CAR          2.85     1.09    2.62  0.00881          1.02          2.8   \n",
      "BETA_COST       -0.13   0.0251   -5.17 2.35e-07        0.0265        -4.89   \n",
      "BETA_TIME_CAR   -2.34    0.489   -4.78 1.75e-06         0.495        -4.73   \n",
      "BETA_TIME_RAIL -0.529    0.418   -1.27    0.205         0.414        -1.28   \n",
      "GENDER          0.675     0.33    2.05   0.0407         0.329         2.05   \n",
      "\n",
      "                Rob. p-value  \n",
      "ASC_CAR              0.00506  \n",
      "BETA_COST           9.94e-07  \n",
      "BETA_TIME_CAR       2.29e-06  \n",
      "BETA_TIME_RAIL         0.201  \n",
      "GENDER                0.0404  \n",
      "Nbr of observations: 228\n",
      "LL(0) =    -158.038\n",
      "LL(beta) = -115.880\n",
      "rho bar square = 0.235\n",
      "Output file: binary_socioec_netherlands.html\n"
     ]
    }
   ],
   "source": [
    "# Parameters to be estimated\n",
    "# Arguments:\n",
    "#   1  Name for report. Typically, the same as the variable\n",
    "#   2  Starting value\n",
    "#   3  Lower bound\n",
    "#   4  Upper bound\n",
    "#   5  0: estimate the parameter, 1: keep it fixed\n",
    "ASC_CAR = Beta('ASC_CAR',0,None,None,0)\n",
    "ASC_RAIL= Beta('ASC_RAIL',0,None,None,1)\n",
    "BETA_COST= Beta('BETA_COST',0,None,None,0)\n",
    "BETA_TIME_CAR= Beta('BETA_TIME_CAR',0,None,None,0)\n",
    "BETA_TIME_RAIL = Beta('BETA_TIME_RAIL',0,None,None,0)\n",
    "BETA_GENDER = Beta(\"GENDER\",0,None,None,0)\n",
    "\n",
    "# Define here arithmetic expressions for name that are not directly available from the data\n",
    "rail_time  = DefineVariable('rail_time',(  rail_ivtt   +  rail_acc_time   ) +  rail_egr_time  ,database)\n",
    "car_time  = DefineVariable('car_time', car_ivtt   +  car_walk_time  ,database)\n",
    "rate_G2E = DefineVariable('rate_G2E', 0.44378022,database)\n",
    "car_cost_euro = DefineVariable('car_cost_euro', car_cost * rate_G2E,database)\n",
    "rail_cost_euro = DefineVariable('rail_cost_euro', rail_cost * rate_G2E,database)\n",
    "#gender = DefineVariable(\"gender\", gender, database)\n",
    "\n",
    "# Utilities\n",
    "Car = ASC_CAR  + BETA_COST * car_cost_euro + BETA_TIME_CAR * car_time\n",
    "Rail = ASC_RAIL + BETA_COST * rail_cost_euro + BETA_TIME_RAIL * rail_time + BETA_GENDER*gender\n",
    "V = {0: Car,1: Rail}\n",
    "av = {0: 1,1: 1}\n",
    "\n",
    "# The choice model is a logit, with availability conditions\n",
    "logprob = loglogit(V,av,choice)\n",
    "biogeme  = bio.BIOGEME(database,logprob)\n",
    "biogeme.modelName = \"binary_socioec_netherlands\"\n",
    "results = biogeme.estimate()\n",
    "\n",
    "# Get the results in a pandas table\n",
    "pandasResults = results.getEstimatedParameters()\n",
    "print(pandasResults)\n",
    "print(f\"Nbr of observations: {database.getNumberOfObservations()}\")\n",
    "print(f\"LL(0) =    {results.data.initLogLike:.3f}\")\n",
    "print(f\"LL(beta) = {results.data.logLike:.3f}\")\n",
    "print(f\"rho bar square = {results.data.rhoBarSquare:.3g}\")\n",
    "print(f\"Output file: {results.data.htmlFileName}\")"
   ]
  },
  {
   "cell_type": "code",
   "execution_count": null,
   "metadata": {},
   "outputs": [],
   "source": []
  }
 ],
 "metadata": {
  "kernelspec": {
   "display_name": "Python 3",
   "language": "python",
   "name": "python3"
  },
  "language_info": {
   "codemirror_mode": {
    "name": "ipython",
    "version": 3
   },
   "file_extension": ".py",
   "mimetype": "text/x-python",
   "name": "python",
   "nbconvert_exporter": "python",
   "pygments_lexer": "ipython3",
   "version": "3.6.6"
  }
 },
 "nbformat": 4,
 "nbformat_minor": 2
}

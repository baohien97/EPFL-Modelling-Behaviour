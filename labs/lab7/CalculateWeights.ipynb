{
 "cells": [
  {
   "cell_type": "code",
   "execution_count": 1,
   "metadata": {},
   "outputs": [],
   "source": [
    "import pandas as pd\n",
    "import biogeme.database as db\n",
    "import biogeme.biogeme as bio\n",
    "from biogeme.expressions import Beta, DefineVariable\n",
    "from biogeme.models import loglogit"
   ]
  },
  {
   "cell_type": "code",
   "execution_count": 7,
   "metadata": {},
   "outputs": [
    {
     "data": {
      "text/plain": [
       "0      0\n",
       "1      0\n",
       "2      0\n",
       "3      1\n",
       "4      0\n",
       "      ..\n",
       "223    0\n",
       "224    0\n",
       "225    1\n",
       "226    0\n",
       "227    1\n",
       "Name: age, Length: 228, dtype: int64"
      ]
     },
     "execution_count": 7,
     "metadata": {},
     "output_type": "execute_result"
    }
   ],
   "source": [
    "# Since the procedure that has been used to collect the sample is assumed to be stratified random\n",
    "# sampling, we need to associate a weight with each group or stratum, and then with each individ-\n",
    "# ual. Create an additional column for the dataset netherlandsRP.dat containing the individual\n",
    "# weights. Define the new dataset as netherlandsRP w.dat.\n",
    "\n",
    "df = pd.read_table(\"netherlandsRP.dat\")\n",
    "df.age"
   ]
  },
  {
   "cell_type": "code",
   "execution_count": 9,
   "metadata": {},
   "outputs": [],
   "source": [
    "S1 = len(df[(df.gender == 0) & (df.age == 0)]) # male + age1 (age <= 40)\n",
    "S2 = len(df[(df.gender == 0) & (df.age==1)]) # male + age2\n",
    "S3 = len(df[(df.gender == 1) & (df.age == 0)]) # female + age1\n",
    "S4 = len(df[(df.gender == 1) & (df.age == 1)]) # female + age2"
   ]
  },
  {
   "cell_type": "code",
   "execution_count": 11,
   "metadata": {},
   "outputs": [
    {
     "data": {
      "text/plain": [
       "(0.6294429649167823, 1.535783546262419, 0.8390317612040569, 1.6383383900657613)"
      ]
     },
     "execution_count": 11,
     "metadata": {},
     "output_type": "execute_result"
    }
   ],
   "source": [
    "N1 = 4092390\n",
    "N2 = 4151092\n",
    "N3 = 3984028\n",
    "N4 = 4428289\n",
    "\n",
    "N = N1 + N2 + N3 + N4\n",
    "S = S1 + S2 + S3 + S4\n",
    "\n",
    "w1 = N1/N * S/S1\n",
    "w2 = N2/N * S/S2\n",
    "w3 = N3/N * S/S3\n",
    "w4 = N4/N * S/S4\n",
    "\n",
    "w1, w2, w3, w4"
   ]
  },
  {
   "cell_type": "code",
   "execution_count": 16,
   "metadata": {},
   "outputs": [],
   "source": [
    "df.loc[(df.gender == 0) & (df.age == 0), \"Weights\"] = w1\n",
    "df.loc[(df.gender == 0) & (df.age==1), \"Weights\"] = w2\n",
    "df.loc[(df.gender == 1) & (df.age == 0),\"Weights\"] = w3\n",
    "df.loc[(df.gender == 1) & (df.age == 1), \"Weights\"] = w4"
   ]
  },
  {
   "cell_type": "code",
   "execution_count": 23,
   "metadata": {},
   "outputs": [],
   "source": [
    "df.to_csv(\"netherlandsRP_w.dat\", sep=\"\\t\")"
   ]
  },
  {
   "cell_type": "code",
   "execution_count": null,
   "metadata": {},
   "outputs": [],
   "source": []
  }
 ],
 "metadata": {
  "kernelspec": {
   "display_name": "Python 3",
   "language": "python",
   "name": "python3"
  },
  "language_info": {
   "codemirror_mode": {
    "name": "ipython",
    "version": 3
   },
   "file_extension": ".py",
   "mimetype": "text/x-python",
   "name": "python",
   "nbconvert_exporter": "python",
   "pygments_lexer": "ipython3",
   "version": "3.6.6"
  }
 },
 "nbformat": 4,
 "nbformat_minor": 2
}

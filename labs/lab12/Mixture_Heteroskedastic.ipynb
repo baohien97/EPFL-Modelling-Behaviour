{
 "cells": [
  {
   "cell_type": "code",
   "execution_count": 1,
   "metadata": {},
   "outputs": [
    {
     "name": "stdout",
     "output_type": "stream",
     "text": [
      "                 Value   Std err     t-test       p-value  Rob. Std err  \\\n",
      "ASC_CAR_mean  0.241931  0.102749   2.354577  1.854383e-02      0.108105   \n",
      "ASC_CAR_std  -0.120516  0.178242  -0.676134  4.989557e-01      0.094014   \n",
      "ASC_SM_mean   0.856730  0.117650   7.282031  3.288481e-13      0.188027   \n",
      "ASC_SM_std    2.994847  0.250436  11.958519  0.000000e+00      0.395805   \n",
      "B_COST       -0.017199  0.001015 -16.937132  0.000000e+00      0.001544   \n",
      "B_HE         -0.007739  0.001366  -5.663352  1.484443e-08      0.001342   \n",
      "B_TIME       -0.016633  0.000917 -18.142383  0.000000e+00      0.001960   \n",
      "\n",
      "              Rob. t-test  Rob. p-value  \n",
      "ASC_CAR_mean     2.237927  2.522580e-02  \n",
      "ASC_CAR_std     -1.281888  1.998819e-01  \n",
      "ASC_SM_mean      4.556423  5.203212e-06  \n",
      "ASC_SM_std       7.566479  3.841372e-14  \n",
      "B_COST         -11.138384  0.000000e+00  \n",
      "B_HE            -5.767899  8.026611e-09  \n",
      "B_TIME          -8.486358  0.000000e+00  \n",
      "Nbr of observations: 6768\n",
      "LL(0) = -6964.663\n",
      "LL(beta) = -5250.620\n",
      "rho bar square = 0.245\n",
      "Output file: Mixture Heteroskedastic.html\n"
     ]
    }
   ],
   "source": [
    "# Translated to .py by Meritxell Pacheco (December 2016)\n",
    "# Adapted to PandasBiogeme by Nicola Ortelli (November 2019)\n",
    "\n",
    "import pandas as pd\n",
    "import biogeme.database as db\n",
    "import biogeme.biogeme as bio\n",
    "import biogeme.models as models\n",
    "from biogeme.optimization import newtonTrustRegionForBiogeme\n",
    "from biogeme.expressions import Beta, DefineVariable, MonteCarlo, bioDraws, log\n",
    "\n",
    "df = pd.read_csv(\"swissmetro.dat\", sep = '\\t')\n",
    "database = db.Database(\"swissmetro\", df)\n",
    "\n",
    "globals().update(database.variables)\n",
    "\n",
    "# Exclude data\n",
    "exclude = (( PURPOSE != 1 ) * ( PURPOSE != 3 ) + ( CHOICE == 0 )) > 0\n",
    "database.remove(exclude)\n",
    "\n",
    "# Parameters to be estimated\n",
    "ASC_TRAIN    = Beta('ASC_TRAIN',    0, None, None, 1)\n",
    "ASC_SM_mean  = Beta('ASC_SM_mean',  0, None, None, 0)\n",
    "ASC_SM_std   = Beta('ASC_SM_std',   0, None, None, 0)\n",
    "ASC_CAR_mean = Beta('ASC_CAR_mean', 0, None, None, 0)\n",
    "ASC_CAR_std  = Beta('ASC_CAR_std',  0, None, None, 0)\n",
    "\n",
    "B_TIME = Beta('B_TIME', 0, None, None, 0)\n",
    "B_COST = Beta('B_COST', 0, None, None, 0)\n",
    "B_HE   = Beta('B_HE',   0, None, None, 0)\n",
    "\n",
    "# Random parameters\n",
    "ASC_CAR_random = ASC_CAR_mean + ASC_CAR_std * bioDraws('ASC_CAR_random', 'NORMAL')\n",
    "ASC_SM_random  = ASC_SM_mean  + ASC_SM_std  * bioDraws('ASC_SM_random',  'NORMAL')\n",
    "\n",
    "# Definition of new variables\n",
    "TRAIN_COST = DefineVariable('TRAIN_COST', TRAIN_CO * ( GA == 0 ), database)\n",
    "SM_COST    = DefineVariable('SM_COST', SM_CO * ( GA == 0 ), database)\n",
    "\n",
    "# Utilities\n",
    "V_TRAIN = ASC_TRAIN      + B_TIME * TRAIN_TT + B_COST * TRAIN_COST + B_HE * TRAIN_HE\n",
    "V_SM    = ASC_SM_random  + B_TIME * SM_TT    + B_COST * SM_COST    + B_HE * SM_HE\n",
    "V_CAR   = ASC_CAR_random + B_TIME * CAR_TT   + B_COST * CAR_CO\n",
    "\n",
    "V = {1: V_TRAIN, 2: V_SM, 3: V_CAR}\n",
    "av = {1: TRAIN_AV, 2: SM_AV, 3: CAR_AV}\n",
    "\n",
    "# Choice model estimation\n",
    "prob = models.logit(V, av, CHOICE)\n",
    "logprob = log(MonteCarlo(prob))\n",
    "biogeme = bio.BIOGEME(database, logprob, numberOfDraws = 100)\n",
    "biogeme.modelName = \"Mixture Heteroskedastic\"\n",
    "results = biogeme.estimate(algorithm = newtonTrustRegionForBiogeme)\n",
    "\n",
    "# Results\n",
    "pandasResults = results.getEstimatedParameters()\n",
    "print(pandasResults)\n",
    "print(f\"Nbr of observations: {database.getNumberOfObservations()}\")\n",
    "print(f\"LL(0) = {results.data.initLogLike:.3f}\")\n",
    "print(f\"LL(beta) = {results.data.logLike:.3f}\")\n",
    "print(f\"rho bar square = {results.data.rhoBarSquare:.3g}\")\n",
    "print(f\"Output file: {results.data.htmlFileName}\")"
   ]
  },
  {
   "cell_type": "code",
   "execution_count": 2,
   "metadata": {},
   "outputs": [
    {
     "data": {
      "text/plain": [
       "129.53200000000106"
      ]
     },
     "execution_count": 2,
     "metadata": {},
     "output_type": "execute_result"
    }
   ],
   "source": [
    "# likelihood ratio\n",
    "\n",
    "-2*(-5315.386 -  -5250.620) # ~ Chi^2(0.95,2)=5.99"
   ]
  },
  {
   "cell_type": "code",
   "execution_count": null,
   "metadata": {},
   "outputs": [],
   "source": []
  }
 ],
 "metadata": {
  "kernelspec": {
   "display_name": "Python 3",
   "language": "python",
   "name": "python3"
  },
  "language_info": {
   "codemirror_mode": {
    "name": "ipython",
    "version": 3
   },
   "file_extension": ".py",
   "mimetype": "text/x-python",
   "name": "python",
   "nbconvert_exporter": "python",
   "pygments_lexer": "ipython3",
   "version": "3.6.6"
  }
 },
 "nbformat": 4,
 "nbformat_minor": 2
}

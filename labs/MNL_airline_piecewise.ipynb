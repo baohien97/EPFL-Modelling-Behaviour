{
 "cells": [
  {
   "cell_type": "code",
   "execution_count": 12,
   "metadata": {},
   "outputs": [],
   "source": [
    "import pandas as pd\n",
    "import biogeme.database as db\n",
    "import biogeme.biogeme as bio\n",
    "from biogeme.expressions import Beta, DefineVariable\n",
    "from biogeme.models import loglogit\n",
    "\n",
    "from biogeme.models import piecewiseFormula"
   ]
  },
  {
   "cell_type": "code",
   "execution_count": 13,
   "metadata": {},
   "outputs": [],
   "source": [
    "pandas = pd.read_table(\"airline.dat\")\n",
    "database = db.Database(\"airline\",pandas)\n",
    "pd.options.display.float_format = '{:.3g}'.format\n",
    "\n",
    "globals().update(database.variables)\n",
    "\n",
    "# Exclude\n",
    "exclude = (ArrivalTimeHours_1   ==  -1)\n",
    "database.remove(exclude)\n",
    "  \n",
    "# exclude = (Cont_Income==-1)\n",
    "# database.remove(exclude)\n",
    "# Choice\n",
    "chosenAlternative = ( (  BestAlternative_1   *  1  ) + (  BestAlternative_2   *  2  ) ) + (  BestAlternative_3   *  3  )"
   ]
  },
  {
   "cell_type": "code",
   "execution_count": 14,
   "metadata": {},
   "outputs": [
    {
     "name": "stdout",
     "output_type": "stream",
     "text": [
      "                                  Value  Std err  t-test  p-value  \\\n",
      "Constant2                         -2.32    0.423    -5.5 3.86e-08   \n",
      "Constant3                         -2.55    0.431   -5.91 3.36e-09   \n",
      "Fare                            -0.0193 0.000699   -27.6        0   \n",
      "Legroom                           0.227    0.025    9.09        0   \n",
      "SchedDE                           -0.14   0.0157    -8.9        0   \n",
      "SchedDL                          -0.105   0.0128    -8.2 2.22e-16   \n",
      "Total_TT2                          -0.3     0.07   -4.29 1.79e-05   \n",
      "Total_TT3                        -0.301   0.0702   -4.29 1.82e-05   \n",
      "beta_TripTimeHours_1_2_3         -0.443     0.19   -2.33   0.0197   \n",
      "beta_TripTimeHours_1_3_more      -0.229   0.0855   -2.67  0.00751   \n",
      "beta_TripTimeHours_1_lessthan_2  -0.824    0.241   -3.43 0.000613   \n",
      "\n",
      "                                 Rob. Std err  Rob. t-test  Rob. p-value  \n",
      "Constant2                               0.411        -5.65      1.62e-08  \n",
      "Constant3                               0.438        -5.83      5.65e-09  \n",
      "Fare                                 0.000799        -24.1             0  \n",
      "Legroom                                0.0267         8.51             0  \n",
      "SchedDE                                0.0165        -8.47             0  \n",
      "SchedDL                                0.0137        -7.64      2.22e-14  \n",
      "Total_TT2                              0.0701        -4.29      1.81e-05  \n",
      "Total_TT3                              0.0701        -4.29      1.79e-05  \n",
      "beta_TripTimeHours_1_2_3                0.188        -2.36        0.0182  \n",
      "beta_TripTimeHours_1_3_more            0.0889        -2.57        0.0101  \n",
      "beta_TripTimeHours_1_lessthan_2         0.238        -3.46      0.000533  \n",
      "Nbr of observations: 3609\n",
      "LL(0) =    -3964.892\n",
      "LL(beta) = -2315.041\n",
      "rho bar square = 0.413\n",
      "Output file: logit_airline_piecewise.html\n"
     ]
    }
   ],
   "source": [
    "#Parameters to be estimated\n",
    "# Arguments:\n",
    "#   1  Name for report. Typically, the same as the variable\n",
    "#   2  Starting value\n",
    "#   3  Lower bound\n",
    "#   4  Upper bound\n",
    "#   5  0: estimate the parameter, 1: keep it fixed\n",
    "Constant1= Beta('Constant1',0,None,None,1)\n",
    "Constant2= Beta('Constant2',0,None,None,0)\n",
    "Constant3= Beta('Constant3',0,None,None,0)\n",
    "Fare= Beta('Fare',0,None,None,0)\n",
    "Legroom = Beta('Legroom',0,None,None,0)\n",
    "SchedDE = Beta('SchedDE',0,None,None,0)\n",
    "SchedDL = Beta('SchedDL',0,None,None,0)\n",
    "Total_TT1= Beta('Total_TT1',0,None,None,0)\n",
    "Total_TT2 = Beta('Total_TT2',0,None,None,0)\n",
    "Total_TT3 = Beta('Total_TT3',0,None,None,0)\n",
    "\n",
    "# piecewise\n",
    "thresholds = [None, 2, 3, None]\n",
    "init_Betas_TT1 = [0,0,0]\n",
    "\n",
    "# Define here arithmetic expressions for name that are not directly\n",
    "# available from the data\n",
    "\n",
    "DepartureTimeSensitive  = DefineVariable('DepartureTimeSensitive', q11_DepartureOrArrivalIsImportant   == \\\n",
    "                                         1 ,database)\n",
    "ArrivalTimeSensitive  = DefineVariable('ArrivalTimeSensitive', q11_DepartureOrArrivalIsImportant   ==  2 ,database)\n",
    "Missing  = DefineVariable('Missing',(  q11_DepartureOrArrivalIsImportant   !=  1  ) *\\\n",
    "                          (  q11_DepartureOrArrivalIsImportant   !=  2  ),database)\n",
    "DesiredDepartureTime  = DefineVariable('DesiredDepartureTime',q12_IdealDepTime ,database)\n",
    "DesiredArrivalTime  = DefineVariable('DesiredArrivalTime',q13_IdealArrTime ,database)\n",
    "ScheduledDelay_1  = DefineVariable('ScheduledDelay_1',(  DepartureTimeSensitive   *\\\n",
    "                                                       (  DepartureTimeMins_1   -  DesiredDepartureTime   ) ) +\\\n",
    "                                   (  ArrivalTimeSensitive   *\\\n",
    "                                    (  ArrivalTimeMins_1   -  DesiredArrivalTime   ) ),database)\n",
    "ScheduledDelay_2  = DefineVariable('ScheduledDelay_2',(  DepartureTimeSensitive   *\\\n",
    "                                                       (  DepartureTimeMins_2   -  DesiredDepartureTime   ) ) +\\\n",
    "                                   (  ArrivalTimeSensitive   *\\\n",
    "                                    (  ArrivalTimeMins_2   -  DesiredArrivalTime   ) ),database)\n",
    "ScheduledDelay_3  = DefineVariable('ScheduledDelay_3',(  DepartureTimeSensitive   *\\\n",
    "                                                       (  DepartureTimeMins_3   -  DesiredDepartureTime   ) ) +\\\n",
    "                                   (  ArrivalTimeSensitive   *\\\n",
    "                                    (  ArrivalTimeMins_3   -  DesiredArrivalTime   ) ),database)\n",
    "Opt1_SchedDelayEarly  = DefineVariable('Opt1_SchedDelayEarly',(  -(ScheduledDelay_1 )  *\\\n",
    "                                                               (  ScheduledDelay_1   <  0  ) ) /  60 ,database)\n",
    "Opt2_SchedDelayEarly  = DefineVariable('Opt2_SchedDelayEarly',(  -(ScheduledDelay_2 )  *\\\n",
    "                                                               (  ScheduledDelay_2   <  0  ) ) /  60 ,database)\n",
    "Opt3_SchedDelayEarly  = DefineVariable('Opt3_SchedDelayEarly',(  -(ScheduledDelay_3 )  *\\\n",
    "                                                               (  ScheduledDelay_3   <  0  ) ) /  60 ,database)\n",
    "Opt1_SchedDelayLate  = DefineVariable('Opt1_SchedDelayLate',(  ScheduledDelay_1   *\\\n",
    "                                                             (  ScheduledDelay_1   >  0  ) ) /  60 ,database)\n",
    "Opt2_SchedDelayLate  = DefineVariable('Opt2_SchedDelayLate',(  ScheduledDelay_2   *\\\n",
    "                                                             (  ScheduledDelay_2   >  0  ) ) /  60 ,database)\n",
    "Opt3_SchedDelayLate  = DefineVariable('Opt3_SchedDelayLate',(  ScheduledDelay_3   *\\\n",
    "                                                             (  ScheduledDelay_3   >  0  ) ) /  60 ,database)\n",
    "\n",
    "# Utilities\n",
    "Opt1 = Constant1 + Fare * Fare_1 + Legroom * Legroom_1 + SchedDE * Opt1_SchedDelayEarly +\\\n",
    "SchedDL * Opt1_SchedDelayLate + piecewiseFormula(TripTimeHours_1, thresholds, init_Betas_TT1)\n",
    "Opt2 = Constant2 + Fare * Fare_2 + Legroom * Legroom_2 + SchedDE * Opt2_SchedDelayEarly +\\\n",
    "SchedDL * Opt2_SchedDelayLate + Total_TT2 * TripTimeHours_2\n",
    "Opt3 = Constant3 + Fare * Fare_3 + Legroom * Legroom_3 + SchedDE * Opt3_SchedDelayEarly + SchedDL *\\\n",
    "Opt3_SchedDelayLate + Total_TT3 * TripTimeHours_3\n",
    "V = {1: Opt1,2: Opt2,3: Opt3}\n",
    "av = {1: 1,2: 1,3: 1}\n",
    "\n",
    "# The choice model is a logit, with availability conditions\n",
    "logprob = loglogit(V,av,chosenAlternative)\n",
    "biogeme  = bio.BIOGEME(database,logprob)\n",
    "biogeme.modelName = \"logit_airline_piecewise\"\n",
    "results = biogeme.estimate()\n",
    "# Get the results in a pandas table\n",
    "pandasResults = results.getEstimatedParameters()\n",
    "print(pandasResults)\n",
    "print(f\"Nbr of observations: {database.getNumberOfObservations()}\")\n",
    "print(f\"LL(0) =    {results.data.initLogLike:.3f}\")\n",
    "print(f\"LL(beta) = {results.data.logLike:.3f}\")\n",
    "print(f\"rho bar square = {results.data.rhoBarSquare:.3g}\")\n",
    "print(f\"Output file: {results.data.htmlFileName}\")"
   ]
  },
  {
   "cell_type": "code",
   "execution_count": 15,
   "metadata": {},
   "outputs": [
    {
     "data": {
      "text/plain": [
       "10.811999999999898"
      ]
     },
     "execution_count": 15,
     "metadata": {},
     "output_type": "execute_result"
    }
   ],
   "source": [
    "# compare with specific model\n",
    "-2 * (-2320.447 --2315.041) # > Chi^2(0.95,2) = 5.99 => reject H0 = time is linear"
   ]
  },
  {
   "cell_type": "code",
   "execution_count": null,
   "metadata": {},
   "outputs": [],
   "source": []
  }
 ],
 "metadata": {
  "kernelspec": {
   "display_name": "Python 3",
   "language": "python",
   "name": "python3"
  },
  "language_info": {
   "codemirror_mode": {
    "name": "ipython",
    "version": 3
   },
   "file_extension": ".py",
   "mimetype": "text/x-python",
   "name": "python",
   "nbconvert_exporter": "python",
   "pygments_lexer": "ipython3",
   "version": "3.6.6"
  }
 },
 "nbformat": 4,
 "nbformat_minor": 2
}

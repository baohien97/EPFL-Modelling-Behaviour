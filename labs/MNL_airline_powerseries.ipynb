{
 "cells": [
  {
   "cell_type": "code",
   "execution_count": 1,
   "metadata": {},
   "outputs": [],
   "source": [
    "import pandas as pd\n",
    "import biogeme.database as db\n",
    "import biogeme.biogeme as bio\n",
    "from biogeme.expressions import Beta, DefineVariable\n",
    "from biogeme.models import loglogit"
   ]
  },
  {
   "cell_type": "code",
   "execution_count": 2,
   "metadata": {},
   "outputs": [],
   "source": [
    "pandas = pd.read_table(\"airline.dat\")\n",
    "database = db.Database(\"airline\",pandas)\n",
    "pd.options.display.float_format = '{:.3g}'.format\n",
    "\n",
    "globals().update(database.variables)\n",
    "\n",
    "# Exclude\n",
    "exclude = (  ArrivalTimeHours_1   ==  -1  )\n",
    "database.remove(exclude)\n",
    "  \n",
    "# Choice\n",
    "chosenAlternative = ( (  BestAlternative_1   *  1  ) + (  BestAlternative_2   *  2  ) ) + (  BestAlternative_3   *  3  )"
   ]
  },
  {
   "cell_type": "code",
   "execution_count": 3,
   "metadata": {},
   "outputs": [
    {
     "name": "stdout",
     "output_type": "stream",
     "text": [
      "               Value  Std err  t-test  p-value  Rob. Std err  Rob. t-test  \\\n",
      "Constant2      -2.21    0.299   -7.37 1.73e-13         0.298        -7.41   \n",
      "Constant3      -2.43    0.308    -7.9 2.89e-15         0.312        -7.78   \n",
      "Fare         -0.0193 0.000699   -27.6        0        0.0008        -24.1   \n",
      "Legroom        0.227    0.025    9.09        0        0.0267         8.51   \n",
      "SchedDE       -0.139   0.0157    -8.9        0        0.0165        -8.46   \n",
      "SchedDL       -0.105   0.0128    -8.2 2.22e-16        0.0137        -7.63   \n",
      "Total_TT1      -0.87    0.173   -5.03 4.91e-07         0.172        -5.05   \n",
      "Total_TT1_sq  0.0744   0.0217    3.44 0.000589         0.022         3.38   \n",
      "Total_TT2     -0.301     0.07    -4.3 1.69e-05        0.0701         -4.3   \n",
      "Total_TT3     -0.302   0.0702    -4.3 1.69e-05        0.0701        -4.31   \n",
      "\n",
      "              Rob. p-value  \n",
      "Constant2         1.23e-13  \n",
      "Constant3         7.11e-15  \n",
      "Fare                     0  \n",
      "Legroom                  0  \n",
      "SchedDE                  0  \n",
      "SchedDL           2.33e-14  \n",
      "Total_TT1         4.37e-07  \n",
      "Total_TT1_sq      0.000729  \n",
      "Total_TT2         1.74e-05  \n",
      "Total_TT3         1.66e-05  \n",
      "Nbr of observations: 3609\n",
      "LL(0) =    -3964.892\n",
      "LL(beta) = -2314.435\n",
      "rho bar square = 0.414\n",
      "Output file: logit_airline_powerseries.html\n"
     ]
    }
   ],
   "source": [
    "#Parameters to be estimated\n",
    "# Arguments:\n",
    "#   1  Name for report. Typically, the same as the variable\n",
    "#   2  Starting value\n",
    "#   3  Lower bound\n",
    "#   4  Upper bound\n",
    "#   5  0: estimate the parameter, 1: keep it fixed\n",
    "Constant1= Beta('Constant1',0,None,None,1)\n",
    "Constant2= Beta('Constant2',0,None,None,0)\n",
    "Constant3= Beta('Constant3',0,None,None,0)\n",
    "Fare= Beta('Fare',0,None,None,0)\n",
    "Legroom = Beta('Legroom',0,None,None,0)\n",
    "SchedDE = Beta('SchedDE',0,None,None,0)\n",
    "SchedDL = Beta('SchedDL',0,None,None,0)\n",
    "Total_TT1= Beta('Total_TT1',0,None,None,0)\n",
    "Total_TT2 = Beta('Total_TT2',0,None,None,0)\n",
    "Total_TT3 = Beta('Total_TT3',0,None,None,0)\n",
    "Total_TT1_sq = Beta('Total_TT1_sq',0,None,None,0)\n",
    "\n",
    "# Define here arithmetic expressions for name that are not directly\n",
    "# available from the data\n",
    "\n",
    "DepartureTimeSensitive  = DefineVariable('DepartureTimeSensitive', q11_DepartureOrArrivalIsImportant   == \\\n",
    "                                         1 ,database)\n",
    "ArrivalTimeSensitive  = DefineVariable('ArrivalTimeSensitive', q11_DepartureOrArrivalIsImportant   ==  2 ,database)\n",
    "Missing  = DefineVariable('Missing',(  q11_DepartureOrArrivalIsImportant   !=  1  ) *\\\n",
    "                          (  q11_DepartureOrArrivalIsImportant   !=  2  ),database)\n",
    "DesiredDepartureTime  = DefineVariable('DesiredDepartureTime',q12_IdealDepTime ,database)\n",
    "DesiredArrivalTime  = DefineVariable('DesiredArrivalTime',q13_IdealArrTime ,database)\n",
    "ScheduledDelay_1  = DefineVariable('ScheduledDelay_1',(  DepartureTimeSensitive   *\\\n",
    "                                                       (  DepartureTimeMins_1   -  DesiredDepartureTime   ) ) +\\\n",
    "                                   (  ArrivalTimeSensitive   *\\\n",
    "                                    (  ArrivalTimeMins_1   -  DesiredArrivalTime   ) ),database)\n",
    "ScheduledDelay_2  = DefineVariable('ScheduledDelay_2',(  DepartureTimeSensitive   *\\\n",
    "                                                       (  DepartureTimeMins_2   -  DesiredDepartureTime   ) ) +\\\n",
    "                                   (  ArrivalTimeSensitive   *\\\n",
    "                                    (  ArrivalTimeMins_2   -  DesiredArrivalTime   ) ),database)\n",
    "ScheduledDelay_3  = DefineVariable('ScheduledDelay_3',(  DepartureTimeSensitive   *\\\n",
    "                                                       (  DepartureTimeMins_3   -  DesiredDepartureTime   ) ) +\\\n",
    "                                   (  ArrivalTimeSensitive   *\\\n",
    "                                    (  ArrivalTimeMins_3   -  DesiredArrivalTime   ) ),database)\n",
    "Opt1_SchedDelayEarly  = DefineVariable('Opt1_SchedDelayEarly',(  -(ScheduledDelay_1 )  *\\\n",
    "                                                               (  ScheduledDelay_1   <  0  ) ) /  60 ,database)\n",
    "Opt2_SchedDelayEarly  = DefineVariable('Opt2_SchedDelayEarly',(  -(ScheduledDelay_2 )  *\\\n",
    "                                                               (  ScheduledDelay_2   <  0  ) ) /  60 ,database)\n",
    "Opt3_SchedDelayEarly  = DefineVariable('Opt3_SchedDelayEarly',(  -(ScheduledDelay_3 )  *\\\n",
    "                                                               (  ScheduledDelay_3   <  0  ) ) /  60 ,database)\n",
    "Opt1_SchedDelayLate  = DefineVariable('Opt1_SchedDelayLate',(  ScheduledDelay_1   *\\\n",
    "                                                             (  ScheduledDelay_1   >  0  ) ) /  60 ,database)\n",
    "Opt2_SchedDelayLate  = DefineVariable('Opt2_SchedDelayLate',(  ScheduledDelay_2   *\\\n",
    "                                                             (  ScheduledDelay_2   >  0  ) ) /  60 ,database)\n",
    "Opt3_SchedDelayLate  = DefineVariable('Opt3_SchedDelayLate',(  ScheduledDelay_3   *\\\n",
    "                                                             (  ScheduledDelay_3   >  0  ) ) /  60 ,database)\n",
    "\n",
    "TripTimeHours_1_sq = DefineVariable('TripTimeHours_1_sq', TripTimeHours_1**2, database)\n",
    "\n",
    "# Utilities\n",
    "Opt1 = Constant1 + Fare * Fare_1 + Legroom * Legroom_1 + SchedDE * Opt1_SchedDelayEarly +\\\n",
    "SchedDL * Opt1_SchedDelayLate + Total_TT1 * TripTimeHours_1 + Total_TT1_sq*TripTimeHours_1_sq\n",
    "Opt2 = Constant2 + Fare * Fare_2 + Legroom * Legroom_2 + SchedDE * Opt2_SchedDelayEarly +\\\n",
    "SchedDL * Opt2_SchedDelayLate + Total_TT2 * TripTimeHours_2\n",
    "Opt3 = Constant3 + Fare * Fare_3 + Legroom * Legroom_3 + SchedDE * Opt3_SchedDelayEarly + SchedDL *\\\n",
    "Opt3_SchedDelayLate + Total_TT3 * TripTimeHours_3\n",
    "V = {1: Opt1,2: Opt2,3: Opt3}\n",
    "av = {1: 1,2: 1,3: 1}\n",
    "\n",
    "# The choice model is a logit, with availability conditions\n",
    "logprob = loglogit(V,av,chosenAlternative)\n",
    "biogeme  = bio.BIOGEME(database,logprob)\n",
    "biogeme.modelName = \"logit_airline_powerseries\"\n",
    "results = biogeme.estimate()\n",
    "# Get the results in a pandas table\n",
    "pandasResults = results.getEstimatedParameters()\n",
    "print(pandasResults)\n",
    "print(f\"Nbr of observations: {database.getNumberOfObservations()}\")\n",
    "print(f\"LL(0) =    {results.data.initLogLike:.3f}\")\n",
    "print(f\"LL(beta) = {results.data.logLike:.3f}\")\n",
    "print(f\"rho bar square = {results.data.rhoBarSquare:.3g}\")\n",
    "print(f\"Output file: {results.data.htmlFileName}\")"
   ]
  },
  {
   "cell_type": "code",
   "execution_count": 4,
   "metadata": {},
   "outputs": [
    {
     "data": {
      "text/plain": [
       "12.024000000000342"
      ]
     },
     "execution_count": 4,
     "metadata": {},
     "output_type": "execute_result"
    }
   ],
   "source": [
    "# compare with model_specific\n",
    "-2*(-2320.447 - -2314.435) # > Chi^2(0.95,1)=3.841 => Reject H0 that travel time is linear"
   ]
  },
  {
   "cell_type": "code",
   "execution_count": null,
   "metadata": {},
   "outputs": [],
   "source": []
  }
 ],
 "metadata": {
  "kernelspec": {
   "display_name": "Python 3",
   "language": "python",
   "name": "python3"
  },
  "language_info": {
   "codemirror_mode": {
    "name": "ipython",
    "version": 3
   },
   "file_extension": ".py",
   "mimetype": "text/x-python",
   "name": "python",
   "nbconvert_exporter": "python",
   "pygments_lexer": "ipython3",
   "version": "3.6.6"
  }
 },
 "nbformat": 4,
 "nbformat_minor": 2
}

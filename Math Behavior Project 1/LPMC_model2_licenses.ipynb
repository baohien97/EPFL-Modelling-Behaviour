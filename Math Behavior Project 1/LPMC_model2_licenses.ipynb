{
 "cells": [
  {
   "cell_type": "code",
   "execution_count": 2,
   "metadata": {
    "ExecuteTime": {
     "end_time": "2020-09-25T08:58:09.169827Z",
     "start_time": "2020-09-25T08:57:59.030134Z"
    }
   },
   "outputs": [
    {
     "name": "stdout",
     "output_type": "stream",
     "text": [
      "              Value  Std err  t-test  p-value  Rob. Std err  Rob. t-test  \\\n",
      "BusCard      0.0108    0.142  0.0762    0.939         0.141       0.0769   \n",
      "Constant2     -4.71    0.175   -26.9        0         0.223        -21.1   \n",
      "Constant3     -2.27    0.205   -11.1        0         0.227          -10   \n",
      "Constant4      -2.8    0.121   -23.2        0         0.166        -16.8   \n",
      "Cost         -0.148   0.0157   -9.38        0        0.0149        -9.91   \n",
      "Drivlicense    1.43   0.0723    19.8        0        0.0719         19.9   \n",
      "Total_TT1     -8.44    0.299   -28.2        0         0.471        -17.9   \n",
      "Total_TT2     -6.05    0.455   -13.3        0         0.531        -11.4   \n",
      "Total_TT3     -3.87    0.247   -15.7        0         0.254        -15.2   \n",
      "Total_TT4     -7.08    0.351   -20.2        0         0.396        -17.9   \n",
      "TrainCard   -0.0244   0.0376  -0.648    0.517        0.0377       -0.647   \n",
      "\n",
      "             Rob. p-value  \n",
      "BusCard             0.939  \n",
      "Constant2               0  \n",
      "Constant3               0  \n",
      "Constant4               0  \n",
      "Cost                    0  \n",
      "Drivlicense             0  \n",
      "Total_TT1               0  \n",
      "Total_TT2               0  \n",
      "Total_TT3               0  \n",
      "Total_TT4               0  \n",
      "TrainCard           0.518  \n",
      "Nbr of observations: 5000\n",
      "LL(0) =    -6931.472\n",
      "LL(beta) = -4053.371\n",
      "rho bar square = 0.414\n",
      "Output file: logit_lpmc_model2_licenses.html\n"
     ]
    }
   ],
   "source": [
    "# Translated to .py by Meritxell Pacheco\n",
    "# 2017\n",
    "# Adapted to PandasBiogeme by Michel Bierlaire\n",
    "# Sun Oct 21 23:15:31 2018\n",
    "\n",
    "import pandas as pd\n",
    "import biogeme.database as db\n",
    "import biogeme.biogeme as bio\n",
    "from biogeme.expressions import Beta, DefineVariable\n",
    "from biogeme.models import loglogit\n",
    "\n",
    "pandas = pd.read_table(\"lpmc02.dat\")\n",
    "database = db.Database(\"LPMC\",pandas)\n",
    "pd.options.display.float_format = '{:.3g}'.format\n",
    "\n",
    "globals().update(database.variables)\n",
    "\n",
    "# Exclude\n",
    "# exclude = (  ArrivalTimeHours_1   ==  -1  )\n",
    "# database.remove(exclude)\n",
    "  \n",
    "# Choice\n",
    "chosenAlternative = travel_mode\n",
    "\n",
    "#Parameters to be estimated+ (  BestAlternative_4   *  4  )\n",
    "# Arguments:\n",
    "#   1  Name for report. Typically, the same as the variable\n",
    "#   2  Starting value\n",
    "#   3  Lower bound\n",
    "#   4  Upper bound\n",
    "#   5  0: estimate the parameter, 1: keep it fixed\n",
    "Constant1\t = Beta('Constant1',0,None,None,1)\n",
    "Constant2\t = Beta('Constant2',0,None,None,0)\n",
    "Constant3\t = Beta('Constant3',0,None,None,0)\n",
    "Constant4\t = Beta('Constant4',0,None,None,0)\n",
    "Cost\t = Beta('Cost',0,None,None,0)\n",
    "Total_TT1\t = Beta('Total_TT1',0,None,None,0)\n",
    "Total_TT2\t = Beta('Total_TT2',0,None,None,0)\n",
    "Total_TT3\t = Beta('Total_TT3',0,None,None,0)\n",
    "Total_TT4\t = Beta('Total_TT4',0,None,None,0)\n",
    "DrivLicense\t = Beta('Drivlicense',0,None,None,0)\n",
    "TrainCard\t = Beta('TrainCard',0,None,None,0)\n",
    "BusCard\t = Beta('BusCard',0,None,None,0)\n",
    "\n",
    "# Define here arithmetic expressions for name that are not directly\n",
    "# available from the data\n",
    "\n",
    "dur_public = DefineVariable('dur_public', dur_pt_access + dur_pt_rail + dur_pt_bus + dur_pt_int ,database)\n",
    "cost_public = DefineVariable('cost_public', cost_transit ,database)\n",
    "cost_driving = DefineVariable('cost_driving', cost_driving_fuel + cost_driving_ccharge ,database)\n",
    "\n",
    "\n",
    "# Utilities\n",
    "\n",
    "#Opt1 = walking\n",
    "#Opt2 = cycling\n",
    "#Opt3 = public transport\n",
    "#Opt4 = driving\n",
    "\n",
    "Opt1 = Constant1 + Total_TT1 * dur_walking\n",
    "Opt2 = Constant2 + Total_TT2 * dur_cycling\n",
    "Opt3 = Constant3 + Cost * cost_public + Total_TT3 * dur_public + TrainCard * faretype + BusCard * bus_scale\n",
    "Opt4 = Constant4 + Cost * cost_driving + Total_TT4 * dur_driving + DrivLicense * driving_license\n",
    "V = {1: Opt1,2: Opt2,3: Opt3,4: Opt4}\n",
    "av = {1: 1,2: 1,3: 1,4: 1}\n",
    "\n",
    "# The choice model is a logit, with availability conditions\n",
    "logprob = loglogit(V,av,chosenAlternative)\n",
    "biogeme  = bio.BIOGEME(database,logprob)\n",
    "biogeme.modelName = \"logit_lpmc_model2_licenses\"\n",
    "results = biogeme.estimate()\n",
    "# Get the results in a pandas table\n",
    "pandasResults = results.getEstimatedParameters()\n",
    "print(pandasResults)\n",
    "print(f\"Nbr of observations: {database.getNumberOfObservations()}\")\n",
    "print(f\"LL(0) =    {results.data.initLogLike:.3f}\")\n",
    "print(f\"LL(beta) = {results.data.logLike:.3f}\")\n",
    "print(f\"rho bar square = {results.data.rhoBarSquare:.3g}\")\n",
    "print(f\"Output file: {results.data.htmlFileName}\")"
   ]
  },
  {
   "cell_type": "code",
   "execution_count": null,
   "metadata": {},
   "outputs": [],
   "source": []
  },
  {
   "cell_type": "code",
   "execution_count": null,
   "metadata": {},
   "outputs": [],
   "source": []
  }
 ],
 "metadata": {
  "kernelspec": {
   "display_name": "biogeme_py_kernel",
   "language": "python",
   "name": "biogeme_py_kernel"
  },
  "language_info": {
   "codemirror_mode": {
    "name": "ipython",
    "version": 3
   },
   "file_extension": ".py",
   "mimetype": "text/x-python",
   "name": "python",
   "nbconvert_exporter": "python",
   "pygments_lexer": "ipython3",
   "version": "3.6.9"
  },
  "varInspector": {
   "cols": {
    "lenName": 16,
    "lenType": 16,
    "lenVar": 40
   },
   "kernels_config": {
    "python": {
     "delete_cmd_postfix": "",
     "delete_cmd_prefix": "del ",
     "library": "var_list.py",
     "varRefreshCmd": "print(var_dic_list())"
    },
    "r": {
     "delete_cmd_postfix": ") ",
     "delete_cmd_prefix": "rm(",
     "library": "var_list.r",
     "varRefreshCmd": "cat(var_dic_list()) "
    }
   },
   "types_to_exclude": [
    "module",
    "function",
    "builtin_function_or_method",
    "instance",
    "_Feature"
   ],
   "window_display": false
  }
 },
 "nbformat": 4,
 "nbformat_minor": 4
}

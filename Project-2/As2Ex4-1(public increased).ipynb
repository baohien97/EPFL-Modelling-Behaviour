{
 "cells": [
  {
   "cell_type": "code",
   "execution_count": 1,
   "metadata": {},
   "outputs": [],
   "source": [
    "import os, glob\n",
    "\n",
    "import pandas as pd\n",
    "import biogeme.database as db\n",
    "import biogeme.biogeme as bio\n",
    "from biogeme.expressions import Beta, DefineVariable\n",
    "from biogeme.models import logit, loglogit, piecewiseFormula, nested\n",
    "from biogeme.models import lognested\n",
    "from biogeme.results import bioResults, pickle"
   ]
  },
  {
   "cell_type": "code",
   "execution_count": 2,
   "metadata": {},
   "outputs": [],
   "source": [
    "df = pd.read_table(\"new_lpmc02.dat\", index_col=0)"
   ]
  },
  {
   "cell_type": "code",
   "execution_count": 3,
   "metadata": {},
   "outputs": [],
   "source": [
    "# create biogeme database\n",
    "\n",
    "database = db.Database(\"LPMC\",df)\n",
    "pd.options.display.float_format = '{:.3g}'.format\n",
    "\n",
    "globals().update(database.variables)"
   ]
  },
  {
   "cell_type": "code",
   "execution_count": 4,
   "metadata": {},
   "outputs": [],
   "source": [
    "# Model\n",
    "\n",
    "# Choice\n",
    "chosenAlternative = travel_mode\n",
    "\n",
    "\n",
    "#Parameters to be estimated+ (  BestAlternative_4   *  4  )\n",
    "# Arguments:\n",
    "#   1  Name for report. Typically, the same as the variable\n",
    "#   2  Starting value\n",
    "#   3  Lower bound\n",
    "#   4  Upper bound\n",
    "#   5  0: estimate the parameter, 1: keep it fixed\n",
    "Constant1 = Beta('Constant1',0,None,None,1)\n",
    "Constant2 = Beta('Constant2',0,None,None,0)\n",
    "Constant3 = Beta('Constant3',0,None,None,0)\n",
    "Constant4 = Beta('Constant4',0,None,None,0)\n",
    "Cost = Beta('Cost',0,None,None,0)\n",
    "Total_TT1 = Beta('Total_TT1',0,None,None,0)\n",
    "Total_TT2 = Beta('Total_TT2',0,None,None,0)\n",
    "Total_TT3 = Beta('Total_TT3',0,None,None,0)\n",
    "Total_TT4 = Beta('Total_TT4',0,None,None,0)\n",
    "\n",
    "CarOwn_2 = Beta('CarOwn_2',0,None,None,0)\n",
    "CarOwn_3 = Beta('CarOwn_3',0,None,None,0)\n",
    "CarOwn_4 = Beta('CarOwn_4',0,None,None,0)\n",
    "\n",
    "LAMBDA = Beta('LAMBDA',1,None,None,0)\n",
    "\n",
    "# parameters relevant to the nests\n",
    "N_SM = Beta('N_SM',1,1,None, 0)\n",
    "N_MOTOR = Beta('N_MOTOR',1,1,None, 0)\n",
    "\n",
    "\n",
    "# socio-economic factors (interacting with Time)\n",
    "Time_Age_1 = Beta('Time_Age_1', 0, None, None, 0)\n",
    "Time_Age_2 = Beta('Time_Age_2', 0, None, None, 0)\n",
    "Time_Age_3 = Beta('Time_Age_3', 0, None, None, 0)\n",
    "Time_Age_4 = Beta('Time_Age_4', 0, None, None, 0)\n",
    "\n",
    "\n",
    "# Utilities\n",
    "\n",
    "#Opt1 = walking\n",
    "#Opt2 = cycling\n",
    "#Opt3 = public transport\n",
    "#Opt4 = driving\n",
    "\n",
    "cost_public = DefineVariable('cost_public', cost_transit, database)\n",
    "cost_public_inc = DefineVariable('cost_public_inc', cost_transit*1.15, database)\n",
    "dur_public = DefineVariable('dur_public', (dur_pt_access + dur_pt_rail + dur_pt_bus + dur_pt_int),database)\n",
    "cost_driving = DefineVariable('cost_driving', (cost_driving_ccharge + cost_driving_fuel), database)\n",
    "\n",
    "Opt1 = Constant1 + Total_TT1 * ((dur_walking) ** LAMBDA -1)/LAMBDA + Time_Age_1 * dur_walking * age\n",
    "Opt2 = Constant2 + Total_TT2 * ((dur_cycling) ** LAMBDA -1)/LAMBDA+ CarOwn_2 * car_ownership +\\\n",
    "                    Time_Age_2 * dur_cycling * age\n",
    "Opt3 = Constant3 + Cost * cost_public_inc + Total_TT3 * (dur_public ** LAMBDA -1)/LAMBDA + CarOwn_3 *\\\n",
    "                car_ownership + Time_Age_3 * dur_public * age\n",
    "Opt4 = Constant4 + Cost * cost_driving + Total_TT4 * ((dur_driving) ** LAMBDA -1)/LAMBDA +\\\n",
    "                    CarOwn_4 * car_ownership + Time_Age_4 * dur_driving * age\n",
    "\n",
    "\n",
    "V = {1: Opt1,2: Opt2,3: Opt3,4: Opt4}\n",
    "av = {1: 1, 2: 1, 3: 1, 4: 1}\n",
    "\n",
    "\n",
    "#Definitions of nests\n",
    "N_SM = N_SM, [1, 2]\n",
    "N_MOTOR = N_MOTOR, [3, 4]\n",
    "\n",
    "nests = N_SM, N_MOTOR"
   ]
  },
  {
   "cell_type": "code",
   "execution_count": 5,
   "metadata": {},
   "outputs": [
    {
     "name": "stdout",
     "output_type": "stream",
     "text": [
      "Predicted market shares:\n",
      "\n",
      "marketShare_walking: 17.63% (15.83%, 20.16%)\n",
      "marketShare_cycling: 2.87% (2.26%, 6.45%)\n",
      "marketShare_public: 35.98% (33.03%, 39.69%)\n",
      "marketShare_car: 43.52% (37.74%, 45.65%)\n"
     ]
    }
   ],
   "source": [
    "# market shares with increased costs\n",
    "\n",
    "sum_weights = database.data['Weights'].sum()\n",
    "S = database.getSampleSize()\n",
    "sample_normalized_weight = Weights * S / sum_weights\n",
    "\n",
    "\n",
    "prob_walking = nested(V, av, nests, 1)\n",
    "prob_cycling = nested(V, av, nests, 2)\n",
    "prob_public = nested(V, av, nests, 3)\n",
    "prob_car = nested(V, av, nests, 4)\n",
    "\n",
    "\n",
    "simulate = {'Prob. walking': prob_walking,\n",
    "            'Prob. cycling': prob_cycling,\n",
    "            'Prob. public': prob_public,\n",
    "            'Prob. car': prob_car,\n",
    "            'Weighted prob. walking': sample_normalized_weight * prob_walking,\n",
    "            'Weighted prob. cycling': sample_normalized_weight * prob_cycling,\n",
    "            'Weighted prob. public': sample_normalized_weight * prob_public,\n",
    "            'Weighted prob. car': sample_normalized_weight * prob_car,\n",
    "            'Revenue public': prob_public * cost_public_inc,\n",
    "            'Revenue driving': prob_car * cost_driving\n",
    "           }\n",
    "\n",
    "\n",
    "biogeme  = bio.BIOGEME(database, simulate)\n",
    "#biogeme.modelName = filepath\n",
    "\n",
    "# link to previously saved model\n",
    "output_dir = \"./model-nested-output\"\n",
    "filepath = os.path.join(output_dir, \"logit_nested_lpmc_sm_motor\")\n",
    "\n",
    "betas = biogeme.freeBetaNames\n",
    "results = bioResults(pickleFile=f\"{filepath}.pickle\")\n",
    "\n",
    "beta_values = results.getBetaValues()\n",
    "\n",
    "# get simulated values from prev saved beta values\n",
    "simulated_values = biogeme.simulate(beta_values)\n",
    "\n",
    "# calculate market shares \n",
    "marketShare_walking = 100 * simulated_values['Weighted prob. walking'].mean()\n",
    "marketShare_cycling = 100 * simulated_values['Weighted prob. cycling'].mean()\n",
    "marketShare_public = 100 * simulated_values['Weighted prob. public'].mean()\n",
    "marketShare_car = 100 * simulated_values['Weighted prob. car'].mean()\n",
    "\n",
    "# conf interval\n",
    "b = results.getBetasForSensitivityAnalysis(betas, size=100)\n",
    "left, right = biogeme.confidenceIntervals(b, 0.9)\n",
    "\n",
    "# display results\n",
    "lst_marketShares = [marketShare_walking, marketShare_cycling, marketShare_public, marketShare_car]\n",
    "temp_names = [\"marketShare_walking\", \"marketShare_cycling\", \"marketShare_public\", \"marketShare_car\"]\n",
    "\n",
    "print(\"Predicted market shares:\\n\")\n",
    "for i in range(len(temp_names)):\n",
    "    l = left[f\"Weighted prob. {temp_names[i].split('_')[1]}\"].mean()*100\n",
    "    r = right[f\"Weighted prob. {temp_names[i].split('_')[1]}\"].mean()*100\n",
    "    print(f\"{temp_names[i]}: {lst_marketShares[i]:.2f}% ({l:.2f}%, {r:.2f}%)\")"
   ]
  },
  {
   "cell_type": "code",
   "execution_count": 6,
   "metadata": {},
   "outputs": [
    {
     "data": {
      "text/plain": [
       "4033.998237747024"
      ]
     },
     "execution_count": 6,
     "metadata": {},
     "output_type": "execute_result"
    }
   ],
   "source": [
    "# revenue for public transport\n",
    "revenue_public_avg = simulated_values[\"Revenue public\"].mean()\n",
    "revenue_public_total = simulated_values[\"Revenue public\"].sum()\n",
    "revenue_public_total"
   ]
  },
  {
   "cell_type": "code",
   "execution_count": null,
   "metadata": {},
   "outputs": [],
   "source": []
  }
 ],
 "metadata": {
  "kernelspec": {
   "display_name": "Python 3",
   "language": "python",
   "name": "python3"
  },
  "language_info": {
   "codemirror_mode": {
    "name": "ipython",
    "version": 3
   },
   "file_extension": ".py",
   "mimetype": "text/x-python",
   "name": "python",
   "nbconvert_exporter": "python",
   "pygments_lexer": "ipython3",
   "version": "3.6.6"
  }
 },
 "nbformat": 4,
 "nbformat_minor": 2
}
